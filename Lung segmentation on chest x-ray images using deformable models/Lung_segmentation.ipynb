{
 "cells": [
  {
   "cell_type": "markdown",
   "metadata": {},
   "source": [
    "### Imports"
   ]
  },
  {
   "cell_type": "code",
   "execution_count": 1,
   "metadata": {},
   "outputs": [],
   "source": [
    "from __future__ import print_function\n",
    "\n",
    "%matplotlib inline\n",
    "import matplotlib.pyplot as plt\n",
    "from ipywidgets import interact, FloatSlider\n",
    "\n",
    "import SimpleITK as sitk\n",
    "import cv2\n",
    "import numpy as np\n",
    "from os import listdir\n",
    "from myshow import show_images, show_multimages"
   ]
  },
  {
   "cell_type": "markdown",
   "metadata": {},
   "source": [
    "### Carga de imágenes y visualización"
   ]
  },
  {
   "cell_type": "code",
   "execution_count": 2,
   "metadata": {},
   "outputs": [
    {
     "data": {
      "application/vnd.jupyter.widget-view+json": {
       "model_id": "8c7c13411a12475a810f7064bfdc9eea",
       "version_major": 2,
       "version_minor": 0
      },
      "text/plain": [
       "interactive(children=(IntSlider(value=3, description='N_imagen', max=5, min=1), Output()), _dom_classes=('widg…"
      ]
     },
     "metadata": {},
     "output_type": "display_data"
    }
   ],
   "source": [
    "images = []\n",
    "images2 = []\n",
    "titles = []\n",
    "for a in listdir(\"images\"):\n",
    "    im = cv2.imread(\"images/\" + a)\n",
    "    im_gray = cv2.cvtColor(im, cv2.COLOR_BGR2GRAY)\n",
    "    images.append(im_gray)\n",
    "    images2.append(sitk.ReadImage(\"images/\" + a))\n",
    "    titles.append(a)\n",
    "\n",
    "show_images(images, titles=titles)"
   ]
  },
  {
   "cell_type": "markdown",
   "metadata": {},
   "source": [
    "### Creación automática de coordenadas semilla y rectángulo de búsqueda"
   ]
  },
  {
   "cell_type": "code",
   "execution_count": 3,
   "metadata": {},
   "outputs": [
    {
     "data": {
      "application/vnd.jupyter.widget-view+json": {
       "model_id": "985bbbe8ec414baf9f6f1be4a3a719bd",
       "version_major": 2,
       "version_minor": 0
      },
      "text/plain": [
       "interactive(children=(IntSlider(value=2, description='N_imagen', max=4, min=1), Output()), _dom_classes=('widg…"
      ]
     },
     "metadata": {},
     "output_type": "display_data"
    }
   ],
   "source": [
    "seeds = []\n",
    "seedmap = []\n",
    "lungmap = []\n",
    "rectangulos = []\n",
    "Medidas = []\n",
    "\n",
    "for im in images:\n",
    "    # Binarizar imagen para crear máscara limpiar bordes y selección pulmones\n",
    "    ret, thr = cv2.threshold(im, 125, 255, cv2.THRESH_BINARY)\n",
    "    ret, thr3 = cv2.threshold(im, 185, 255, cv2.THRESH_BINARY)\n",
    "\n",
    "    # Apertura asegurarse no borrar pulmon, creación máscara para contornos\n",
    "    opened = cv2.morphologyEx(thr, cv2.MORPH_CLOSE, np.ones((15,15)))\n",
    "\n",
    "    mask = opened == 0\n",
    "    mask = np.uint8(mask)\n",
    "    mask = mask * 255\n",
    "\n",
    "    thr3 = mask + thr3\n",
    "    opened2 = cv2.morphologyEx(thr3, cv2.MORPH_CLOSE, np.ones((2,15)))\n",
    "\n",
    "    # Detección de contornos\n",
    "    contours, hierarchy = cv2.findContours(opened2,cv2.RETR_TREE,cv2.CHAIN_APPROX_NONE)\n",
    "    contours = sorted(contours, key=cv2.contourArea, reverse=True)\n",
    "    \n",
    "    # Cuadrado rodeando los contornos detectados\n",
    "    x,y,w,h = cv2.boundingRect(contours[1])\n",
    "    Rectangulo = im[y-20:y+h+20, x-20:x+w+20]\n",
    "    \n",
    "    rectangulos.append(Rectangulo)\n",
    "    Medidas.append([x,y,w,h])\n",
    "    \n",
    "    # Dibujar máscara y hacer malla de semillas para el geodesic\n",
    "    out = np.zeros(im.shape, dtype = \"uint8\")\n",
    "    lungmap.append(out)\n",
    "    mesh = out * 1\n",
    "    mesh[::20,::20] = 1\n",
    "\n",
    "    cv2.drawContours(out, contours, 1, (255,255,255), thickness=-1)\n",
    "    cv2.drawContours(out, contours, 2, (255,255,255), thickness=-1)\n",
    "\n",
    "    outmesh = mesh * out\n",
    "    seedmap.append(outmesh)\n",
    "\n",
    "    ix,iy = np.where(outmesh == 255)\n",
    "    seeds.append([ix,iy])\n",
    "\n",
    "show_multimages(images, lungmap, seedmap, rectangulos, titles=[\"images\",\"lung_segment\",\"seedmap\", \"rectangulos\"])"
   ]
  },
  {
   "cell_type": "markdown",
   "metadata": {},
   "source": [
    "### Creación máscara segmentada"
   ]
  },
  {
   "cell_type": "code",
   "execution_count": 4,
   "metadata": {},
   "outputs": [
    {
     "data": {
      "application/vnd.jupyter.widget-view+json": {
       "model_id": "bee8964011a0473a84692c78f39a6cb4",
       "version_major": 2,
       "version_minor": 0
      },
      "text/plain": [
       "interactive(children=(IntSlider(value=3, description='N_imagen', max=5, min=1), Output()), _dom_classes=('widg…"
      ]
     },
     "metadata": {},
     "output_type": "display_data"
    }
   ],
   "source": [
    "mask = []\n",
    "kernel = cv2.getStructuringElement(cv2.MORPH_ELLIPSE, (16,16))\n",
    "kernel2 = cv2.getStructuringElement(cv2.MORPH_ELLIPSE, (29,29))\n",
    "\n",
    "for im,med in zip(images,Medidas):\n",
    "    # Binarizar imagen y filtrar con el rectángulo de los pulmones\n",
    "    ret, thr = cv2.threshold(im, 205, 255, cv2.THRESH_BINARY_INV)\n",
    "    ret, thr3 = cv2.threshold(im, 140, 1, cv2.THRESH_BINARY_INV)\n",
    "    \n",
    "    # Filtro de los laterales\n",
    "    opened = cv2.morphologyEx(thr3, cv2.MORPH_OPEN, kernel)\n",
    "    fil = opened == 0\n",
    "    fil = np.uint8(fil)\n",
    "    \n",
    "    #Mask\n",
    "    out = np.zeros(im.shape, dtype = \"uint8\")\n",
    "    out[med[1]:med[1]+med[3], med[0]:med[0]+med[2]] = 1\n",
    "    out = thr * fil * out\n",
    "    \n",
    "    out = cv2.morphologyEx(out, cv2.MORPH_OPEN, np.ones((2,11)))\n",
    "    out = cv2.morphologyEx(out, cv2.MORPH_OPEN, np.ones((19,2)))\n",
    "    out = cv2.morphologyEx(out, cv2.MORPH_CLOSE, kernel2)\n",
    "    mask.append(sitk.GetImageFromArray(out))\n",
    "    \n",
    "show_images(mask)"
   ]
  },
  {
   "cell_type": "markdown",
   "metadata": {},
   "source": [
    "### Geodesic Active contour"
   ]
  },
  {
   "cell_type": "code",
   "execution_count": 5,
   "metadata": {},
   "outputs": [
    {
     "name": "stdout",
     "output_type": "stream",
     "text": [
      "RMS Change:  0.11941580963603655\n",
      "Elapsed Iterations:  1000\n",
      "RMS Change:  0.041954754346236876\n",
      "Elapsed Iterations:  1000\n",
      "RMS Change:  0.0403315167705983\n",
      "Elapsed Iterations:  1000\n",
      "RMS Change:  0.11998947456263973\n",
      "Elapsed Iterations:  1000\n",
      "RMS Change:  0.0477235380590696\n",
      "Elapsed Iterations:  1000\n"
     ]
    },
    {
     "data": {
      "application/vnd.jupyter.widget-view+json": {
       "model_id": "881902f0b585411e9f20359344c53f9d",
       "version_major": 2,
       "version_minor": 0
      },
      "text/plain": [
       "interactive(children=(IntSlider(value=3, description='N_imagen', max=5, min=1), Output()), _dom_classes=('widg…"
      ]
     },
     "metadata": {},
     "output_type": "display_data"
    }
   ],
   "source": [
    "contours = []\n",
    "featureImages = []\n",
    "levelsets = []\n",
    "InitialImages = []\n",
    "finals = []\n",
    "\n",
    "for image, ele, ma in zip(images,seeds,mask):\n",
    "    sigma = float(1)\n",
    "\n",
    "    gradientMagnitude = sitk.GradientMagnitudeRecursiveGaussianImageFilter()\n",
    "    gradientMagnitude.SetSigma(sigma)\n",
    "\n",
    "    featureImage = sitk.BoundedReciprocal(gradientMagnitude.Execute(ma))\n",
    "\n",
    "    seedImage = sitk.Image(ma.GetSize()[0],ma.GetSize()[1], sitk.sitkUInt8 )\n",
    "    seedImage.SetSpacing(ma.GetSpacing() )\n",
    "    seedImage.SetOrigin(ma.GetOrigin() )\n",
    "    seedImage.SetDirection(ma.GetDirection() )\n",
    "    \n",
    "    for x,y in zip(ele[0],ele[1]):\n",
    "        se = [float(y), float(x)]\n",
    "        seedImage[ seedImage.TransformPhysicalPointToIndex(se) ] = 1\n",
    "\n",
    "    distance = sitk.SignedMaurerDistanceMapImageFilter()\n",
    "    distance.InsideIsPositiveOff()\n",
    "    distance.UseImageSpacingOn()\n",
    "\n",
    "    initialImage = sitk.BinaryThreshold( distance.Execute( seedImage ), -1000, 10 )\n",
    "    initialImage = sitk.Cast( initialImage, featureImage.GetPixelID() ) * -1 + 0.5\n",
    "\n",
    "\n",
    "    geodesicActiveContour = sitk.GeodesicActiveContourLevelSetImageFilter()\n",
    "    geodesicActiveContour.SetPropagationScaling( 3 )\n",
    "    geodesicActiveContour.SetCurvatureScaling( 7 )\n",
    "    geodesicActiveContour.SetAdvectionScaling( 40 )\n",
    "    geodesicActiveContour.SetMaximumRMSError( 0.001 )\n",
    "    geodesicActiveContour.SetNumberOfIterations( 1000 )\n",
    "\n",
    "    levelset = geodesicActiveContour.Execute( initialImage, featureImage )\n",
    "\n",
    "    print( \"RMS Change: \", geodesicActiveContour.GetRMSChange() )\n",
    "    print( \"Elapsed Iterations: \", geodesicActiveContour.GetElapsedIterations() )\n",
    "\n",
    "    contour = sitk.BinaryContour(sitk.BinaryThreshold(levelset, -1000, 0), fullyConnected=True)\n",
    "    \n",
    "    # Listas para visualizar. Can be deleted except contours.\n",
    "    contours.append(contour)\n",
    "    levelsets.append(levelset)\n",
    "    featureImages.append(featureImage)\n",
    "    InitialImages.append(initialImage)\n",
    "    finals.append(sitk.LabelOverlay(sitk.GetImageFromArray(image), contour))\n",
    "\n",
    "show_multimages(InitialImages, featureImages, finals, levelsets, contours)"
   ]
  },
  {
   "cell_type": "markdown",
   "metadata": {},
   "source": [
    "### Probar con suavizado de imágenes"
   ]
  },
  {
   "cell_type": "code",
   "execution_count": 6,
   "metadata": {},
   "outputs": [
    {
     "data": {
      "application/vnd.jupyter.widget-view+json": {
       "model_id": "f01f081c03304acfa374d3f8ea106a2d",
       "version_major": 2,
       "version_minor": 0
      },
      "text/plain": [
       "interactive(children=(IntSlider(value=2, description='N_imagen', max=3, min=1), Output()), _dom_classes=('widg…"
      ]
     },
     "metadata": {},
     "output_type": "display_data"
    }
   ],
   "source": [
    "mask = []\n",
    "mask2 = []\n",
    "mask3 = []\n",
    "for im in images:\n",
    "    mas = cv2.blur(im,(45,45))\n",
    "    mas2 = cv2.GaussianBlur(im, (9,215), 11)\n",
    "    mas3 = cv2.medianBlur(im, 25)\n",
    "    mask.append(sitk.GetImageFromArray(mas))\n",
    "    mask2.append(sitk.GetImageFromArray(mas2))\n",
    "    mask3.append(sitk.GetImageFromArray(mas3))\n",
    "\n",
    "show_multimages(mask, mask2, mask3)"
   ]
  },
  {
   "cell_type": "markdown",
   "metadata": {},
   "source": [
    "### Geodesic Contour"
   ]
  },
  {
   "cell_type": "code",
   "execution_count": 7,
   "metadata": {},
   "outputs": [
    {
     "name": "stdout",
     "output_type": "stream",
     "text": [
      "RMS Change:  0.02629476442362858\n",
      "Elapsed Iterations:  1000\n",
      "RMS Change:  0.026831814795948438\n",
      "Elapsed Iterations:  1000\n",
      "RMS Change:  0.021374132424240216\n",
      "Elapsed Iterations:  1000\n",
      "RMS Change:  0.028283083427193826\n",
      "Elapsed Iterations:  1000\n",
      "RMS Change:  0.024633724743746824\n",
      "Elapsed Iterations:  1000\n"
     ]
    },
    {
     "data": {
      "application/vnd.jupyter.widget-view+json": {
       "model_id": "100950430e884d8eb4b22ed52c7cbc93",
       "version_major": 2,
       "version_minor": 0
      },
      "text/plain": [
       "interactive(children=(IntSlider(value=3, description='N_imagen', max=5, min=1), Output()), _dom_classes=('widg…"
      ]
     },
     "metadata": {},
     "output_type": "display_data"
    }
   ],
   "source": [
    "contours = []\n",
    "featureImages = []\n",
    "levelsets = []\n",
    "InitialImages = []\n",
    "finals = []\n",
    "\n",
    "for image, ele, ma in zip(images,seeds,mask2):\n",
    "    sigma = float(1)\n",
    "\n",
    "    gradientMagnitude = sitk.GradientMagnitudeRecursiveGaussianImageFilter()\n",
    "    gradientMagnitude.SetSigma(sigma)\n",
    "\n",
    "    featureImage = sitk.BoundedReciprocal(gradientMagnitude.Execute(ma))\n",
    "\n",
    "    seedImage = sitk.Image(ma.GetSize()[0],ma.GetSize()[1], sitk.sitkUInt8 )\n",
    "    seedImage.SetSpacing(ma.GetSpacing() )\n",
    "    seedImage.SetOrigin(ma.GetOrigin() )\n",
    "    seedImage.SetDirection(ma.GetDirection() )\n",
    "    \n",
    "    for x,y in zip(ele[0],ele[1]):\n",
    "        se = [float(y), float(x)]\n",
    "        seedImage[ seedImage.TransformPhysicalPointToIndex(se) ] = 1\n",
    "\n",
    "    distance = sitk.SignedMaurerDistanceMapImageFilter()\n",
    "    distance.InsideIsPositiveOff()\n",
    "    distance.UseImageSpacingOn()\n",
    "\n",
    "    initialImage = sitk.BinaryThreshold( distance.Execute( seedImage ), -1000, 10 )\n",
    "    initialImage = sitk.Cast( initialImage, featureImage.GetPixelID() ) * -1 + 0.5\n",
    "\n",
    "\n",
    "    geodesicActiveContour = sitk.GeodesicActiveContourLevelSetImageFilter()\n",
    "    geodesicActiveContour.SetPropagationScaling( 3 )\n",
    "    geodesicActiveContour.SetCurvatureScaling( 4.5 )\n",
    "    geodesicActiveContour.SetAdvectionScaling( 45 )\n",
    "    geodesicActiveContour.SetMaximumRMSError( 0.001 )\n",
    "    geodesicActiveContour.SetNumberOfIterations( 1000 )\n",
    "\n",
    "    levelset = geodesicActiveContour.Execute( initialImage, featureImage )\n",
    "\n",
    "    print( \"RMS Change: \", geodesicActiveContour.GetRMSChange() )\n",
    "    print( \"Elapsed Iterations: \", geodesicActiveContour.GetElapsedIterations() )\n",
    "\n",
    "    contour = sitk.BinaryContour(sitk.BinaryThreshold(levelset, -1000, 0), fullyConnected=True)\n",
    "    \n",
    "    # Listas para visualizar. Can be deleted except contours.\n",
    "    contours.append(contour)\n",
    "    levelsets.append(levelset)\n",
    "    featureImages.append(featureImage)\n",
    "    InitialImages.append(initialImage)\n",
    "    finals.append(sitk.LabelOverlay(sitk.GetImageFromArray(image), contour))\n",
    "\n",
    "show_multimages(InitialImages, featureImages, finals, levelsets, contours)"
   ]
  }
 ],
 "metadata": {
  "kernelspec": {
   "display_name": "Python 3",
   "language": "python",
   "name": "python3"
  },
  "language_info": {
   "codemirror_mode": {
    "name": "ipython",
    "version": 3
   },
   "file_extension": ".py",
   "mimetype": "text/x-python",
   "name": "python",
   "nbconvert_exporter": "python",
   "pygments_lexer": "ipython3",
   "version": "3.7.4"
  }
 },
 "nbformat": 4,
 "nbformat_minor": 2
}

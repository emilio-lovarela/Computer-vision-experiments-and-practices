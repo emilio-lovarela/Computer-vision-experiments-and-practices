{
 "cells": [
  {
   "cell_type": "markdown",
   "metadata": {},
   "source": [
    "### Llamada a las funciones del notebook\n",
    "\n",
    "Imágenes 2D."
   ]
  },
  {
   "cell_type": "code",
   "execution_count": 1,
   "metadata": {},
   "outputs": [],
   "source": [
    "import SimpleITK as sitk\n",
    "import matplotlib.pyplot as plt\n",
    "from ipywidgets import interact, fixed\n",
    "from IPython.display import clear_output\n",
    "import numpy as np\n",
    "import os\n",
    "import cv2\n",
    "from skimage.filters import sato\n",
    "\n",
    "# Visualizar imágenes\n",
    "def display_images_with_alpha(alpha, fixed, moving):\n",
    "    img = (1.0 - alpha)*fixed[:,:] + alpha*moving[:,:] \n",
    "    plt.imshow(sitk.GetArrayViewFromImage(img),cmap=plt.cm.Greys_r);\n",
    "    plt.axis('off')\n",
    "    plt.show()\n",
    "    \n",
    "# Callback invoked when the StartEvent happens, sets up our new data.\n",
    "def start_plot():\n",
    "    global metric_values, multires_iterations\n",
    "    \n",
    "    metric_values = []\n",
    "    multires_iterations = []\n",
    "\n",
    "# Callback invoked when the EndEvent happens, do cleanup of data and figure.\n",
    "def end_plot():\n",
    "    global metric_values, multires_iterations\n",
    "    \n",
    "    del metric_values\n",
    "    del multires_iterations\n",
    "    # Close figure, we don't want to get a duplicate of the plot latter on.\n",
    "    plt.close()\n",
    "\n",
    "# Callback invoked when the IterationEvent happens, update our data and display new figure.\n",
    "def plot_values(registration_method):\n",
    "    global metric_values, multires_iterations\n",
    "    \n",
    "    metric_values.append(registration_method.GetMetricValue())                                       \n",
    "    # Clear the output area (wait=True, to reduce flickering), and plot current data\n",
    "    clear_output(wait=True)\n",
    "    # Plot the similarity metric values\n",
    "    plt.plot(metric_values, 'r')\n",
    "    plt.plot(multires_iterations, [metric_values[index] for index in multires_iterations], 'b*')\n",
    "    plt.xlabel('Iteration Number',fontsize=12)\n",
    "    plt.ylabel('Metric Value',fontsize=12)\n",
    "    plt.show()\n",
    "    \n",
    "# Callback invoked when the sitkMultiResolutionIterationEvent happens, update the index into the \n",
    "# metric_values list. \n",
    "def update_multires_iterations():\n",
    "    global metric_values, multires_iterations\n",
    "    multires_iterations.append(len(metric_values))"
   ]
  },
  {
   "cell_type": "markdown",
   "metadata": {},
   "source": [
    "### Cargar imágenes y inicializar\n",
    "\n",
    "Cambiar la ruta establecida donde se tengan guardadas las imágenes, inicializamos la transformada y visualizamos de donde parte nuestro alineamiento. Utilizamos el filtro de sato para segmentar los vasos."
   ]
  },
  {
   "cell_type": "code",
   "execution_count": 2,
   "metadata": {},
   "outputs": [],
   "source": [
    "os.chdir(\"images/\")"
   ]
  },
  {
   "cell_type": "code",
   "execution_count": 3,
   "metadata": {},
   "outputs": [
    {
     "data": {
      "application/vnd.jupyter.widget-view+json": {
       "model_id": "4e6673cd640246b1bc0d732865c03287",
       "version_major": 2,
       "version_minor": 0
      },
      "text/plain": [
       "interactive(children=(FloatSlider(value=0.5, description='alpha', max=1.0, step=0.05), Output()), _dom_classes…"
      ]
     },
     "metadata": {},
     "output_type": "display_data"
    },
    {
     "data": {
      "application/vnd.jupyter.widget-view+json": {
       "model_id": "9baac4c96c414372b6225c506a818c5b",
       "version_major": 2,
       "version_minor": 0
      },
      "text/plain": [
       "interactive(children=(FloatSlider(value=0.5, description='alpha', max=1.0, step=0.05), Output()), _dom_classes…"
      ]
     },
     "metadata": {},
     "output_type": "display_data"
    },
    {
     "data": {
      "application/vnd.jupyter.widget-view+json": {
       "model_id": "1809baf0abb248a68f904a156ba96ad1",
       "version_major": 2,
       "version_minor": 0
      },
      "text/plain": [
       "interactive(children=(FloatSlider(value=0.5, description='alpha', max=1.0, step=0.05), Output()), _dom_classes…"
      ]
     },
     "metadata": {},
     "output_type": "display_data"
    },
    {
     "data": {
      "application/vnd.jupyter.widget-view+json": {
       "model_id": "02353fe83d14440e868f09856af45586",
       "version_major": 2,
       "version_minor": 0
      },
      "text/plain": [
       "interactive(children=(FloatSlider(value=0.5, description='alpha', max=1.0, step=0.05), Output()), _dom_classes…"
      ]
     },
     "metadata": {},
     "output_type": "display_data"
    },
    {
     "data": {
      "application/vnd.jupyter.widget-view+json": {
       "model_id": "d47c6a5153cd4486a8ec1268fc433be6",
       "version_major": 2,
       "version_minor": 0
      },
      "text/plain": [
       "interactive(children=(FloatSlider(value=0.5, description='alpha', max=1.0, step=0.05), Output()), _dom_classes…"
      ]
     },
     "metadata": {},
     "output_type": "display_data"
    },
    {
     "data": {
      "application/vnd.jupyter.widget-view+json": {
       "model_id": "8593e78fb08c41c88369a8a454008656",
       "version_major": 2,
       "version_minor": 0
      },
      "text/plain": [
       "interactive(children=(FloatSlider(value=0.5, description='alpha', max=1.0, step=0.05), Output()), _dom_classes…"
      ]
     },
     "metadata": {},
     "output_type": "display_data"
    }
   ],
   "source": [
    "# Cargar las imágenes y las máscaras a utilizar\n",
    "fixed_image = []\n",
    "fixed_image_real = []\n",
    "moving_image = []\n",
    "moving_image_real = []\n",
    "mask1 = []\n",
    "mask2 = []\n",
    "\n",
    "for a in (\"A\", \"C\", \"D\"):\n",
    "    fixed_image_real.append(sitk.ReadImage((a + \"1.png\"), sitk.sitkFloat32))\n",
    "    moving_image_real.append(sitk.ReadImage((a + \"2.png\"), sitk.sitkFloat32))\n",
    "\n",
    "    mask1.append(sitk.ReadImage((a + \"1_mask.png\"), sitk.sitkFloat32))\n",
    "    mask2.append(sitk.ReadImage((a + \"2_mask.png\"), sitk.sitkFloat32))\n",
    "    \n",
    "    # Imágenes segmentadas para calcular las transformaciones utilizando los vasos\n",
    "    fix_image = cv2.imread(a + \"1.png\", 0)\n",
    "    moved_image = cv2.imread(a + \"2.png\", 0)\n",
    "    fix_image = cv2.bilateralFilter(fix_image,39,75,75) # Eliminamos ruido y vasos pequeños que no se encuentrarn en el otro tipo de imagen\n",
    "    sato_i = sato(fix_image, black_ridges=False).astype(np.float32)\n",
    "    sato_i2 = sato(moved_image).astype(np.float32)\n",
    "    fixed_image.append(sitk.GetImageFromArray(sato_i))\n",
    "    moving_image.append(sitk.GetImageFromArray(sato_i2))\n",
    "\n",
    "    \n",
    "# Inicializar la primera transformada\n",
    "initial_transform = []\n",
    "for i in range(0,3):\n",
    "    initial_transform.append(sitk.CenteredTransformInitializer(fixed_image[i], \n",
    "                                                          moving_image[i],\n",
    "                                                          sitk.Euler2DTransform(),\n",
    "                                                          sitk.CenteredTransformInitializerFilter.GEOMETRY))\n",
    "    \n",
    "    moving_resampled = sitk.Resample(moving_image[i], fixed_image[i], initial_transform[i], sitk.sitkLinear, 0.0, moving_image[i].GetPixelID())\n",
    "\n",
    "    interact(display_images_with_alpha, alpha=(0.0,1.0,0.05), fixed = fixed(fixed_image_real[i]), moving=fixed(moving_image_real[i]));\n",
    "    interact(display_images_with_alpha, alpha=(0.0,1.0,0.05), fixed = fixed(fixed_image[i]), moving=fixed(moving_resampled));"
   ]
  },
  {
   "cell_type": "markdown",
   "metadata": {},
   "source": [
    "### Funciones de registro y registro para demons"
   ]
  },
  {
   "cell_type": "code",
   "execution_count": 4,
   "metadata": {},
   "outputs": [],
   "source": [
    "def registro(fixed_image, moving_image, initial_transform, mask1, mask2, interpolator):\n",
    "    registration_method = sitk.ImageRegistrationMethod()\n",
    "\n",
    "    # Similarity metric settings.\n",
    "    #registration_method.SetMetricAsMeanSquares()\n",
    "    registration_method.SetMetricAsMattesMutualInformation(numberOfHistogramBins=50)\n",
    "    registration_method.SetMetricSamplingStrategy(registration_method.RANDOM)\n",
    "    #registration_method.SetMetricSamplingPercentage(0.01)\n",
    "\n",
    "    registration_method.SetInterpolator(interpolator)\n",
    "\n",
    "    # Optimizer settings.\n",
    "    registration_method.SetOptimizerAsGradientDescent(learningRate=1.0, numberOfIterations=200, convergenceMinimumValue=1e-6, convergenceWindowSize=10)\n",
    "    registration_method.SetOptimizerScalesFromPhysicalShift()\n",
    "\n",
    "    # Poniendo máscaras para usar\n",
    "    registration_method.SetMetricFixedMask(mask1)\n",
    "    registration_method.SetMetricMovingMask(mask2)\n",
    "    \n",
    "    # Setup for the multi-resolution framework.            \n",
    "    registration_method.SetShrinkFactorsPerLevel(shrinkFactors = [4,2,1])\n",
    "    registration_method.SetSmoothingSigmasPerLevel(smoothingSigmas=[2,1,0])\n",
    "    registration_method.SmoothingSigmasAreSpecifiedInPhysicalUnitsOn()\n",
    "\n",
    "    # Don't optimize in-place, we would possibly like to run this cell multiple times.\n",
    "    registration_method.SetInitialTransform(initial_transform, inPlace=False)\n",
    "\n",
    "    # Connect all of the observers so that we can perform plotting during registration.\n",
    "    registration_method.AddCommand(sitk.sitkStartEvent, start_plot)\n",
    "    registration_method.AddCommand(sitk.sitkEndEvent, end_plot)\n",
    "    registration_method.AddCommand(sitk.sitkMultiResolutionIterationEvent, update_multires_iterations) \n",
    "    registration_method.AddCommand(sitk.sitkIterationEvent, lambda: plot_values(registration_method))\n",
    "\n",
    "    final_transform = registration_method.Execute(sitk.Cast(fixed_image, sitk.sitkFloat32), \n",
    "                                                   sitk.Cast(moving_image, sitk.sitkFloat32))\n",
    "\n",
    "    return final_transform, registration_method.GetMetricValue()\n",
    "\n",
    "\n",
    "def smooth_and_resample(image, shrink_factors, smoothing_sigmas):\n",
    "    if np.isscalar(shrink_factors):\n",
    "        shrink_factors = [shrink_factors]*image.GetDimension()\n",
    "    if np.isscalar(smoothing_sigmas):\n",
    "        smoothing_sigmas = [smoothing_sigmas]*image.GetDimension()\n",
    "\n",
    "    smoothed_image = sitk.SmoothingRecursiveGaussian(image, smoothing_sigmas)\n",
    "    \n",
    "    original_spacing = image.GetSpacing()\n",
    "    original_size = image.GetSize()\n",
    "    new_size = [int(sz/float(sf) + 0.5) for sf,sz in zip(shrink_factors,original_size)]\n",
    "    new_spacing = [((original_sz-1)*original_spc)/(new_sz-1) \n",
    "                   for original_sz, original_spc, new_sz in zip(original_size, original_spacing, new_size)]\n",
    "    return sitk.Resample(smoothed_image, new_size, sitk.Transform(), \n",
    "                         sitk.sitkLinear, image.GetOrigin(),\n",
    "                         new_spacing, image.GetDirection(), 0.0, \n",
    "                         image.GetPixelID())\n",
    "\n",
    "\n",
    "    \n",
    "def multiscale_demons(registration_algorithm,\n",
    "                      fixed_image, moving_image, initial_transform = None, \n",
    "                      shrink_factors=None, smoothing_sigmas=None):\n",
    "    \n",
    "    # Create image pyramid.\n",
    "    fixed_images = [fixed_image]\n",
    "    moving_images = [moving_image]\n",
    "    if shrink_factors:\n",
    "        for shrink_factor, smoothing_sigma in reversed(list(zip(shrink_factors, smoothing_sigmas))):\n",
    "            fixed_images.append(smooth_and_resample(fixed_images[0], shrink_factor, smoothing_sigma))\n",
    "            moving_images.append(smooth_and_resample(moving_images[0], shrink_factor, smoothing_sigma))\n",
    "    \n",
    "    # Create initial displacement field at lowest resolution. \n",
    "    # Currently, the pixel type is required to be sitkVectorFloat64 because of a constraint imposed by the Demons filters.\n",
    "    if initial_transform:\n",
    "        initial_displacement_field = sitk.TransformToDisplacementField(initial_transform, \n",
    "                                                                       sitk.sitkVectorFloat64,\n",
    "                                                                       fixed_images[-1].GetSize(),\n",
    "                                                                       fixed_images[-1].GetOrigin(),\n",
    "                                                                       fixed_images[-1].GetSpacing(),\n",
    "                                                                       fixed_images[-1].GetDirection())\n",
    "    else:\n",
    "        initial_displacement_field = sitk.Image(fixed_images[-1].GetWidth(), \n",
    "                                                fixed_images[-1].GetHeight(),\n",
    "                                                fixed_images[-1].GetDepth(),\n",
    "                                                sitk.sitkVectorFloat64)\n",
    "        initial_displacement_field.CopyInformation(fixed_images[-1])\n",
    " \n",
    "    # Run the registration.            \n",
    "    initial_displacement_field = registration_algorithm.Execute(fixed_images[-1], \n",
    "                                                                moving_images[-1], \n",
    "                                                                initial_displacement_field)\n",
    "    # Start at the top of the pyramid and work our way down.    \n",
    "    for f_image, m_image in reversed(list(zip(fixed_images[0:-1], moving_images[0:-1]))):\n",
    "            initial_displacement_field = sitk.Resample (initial_displacement_field, f_image)\n",
    "            initial_displacement_field = registration_algorithm.Execute(f_image, m_image, initial_displacement_field)\n",
    "    return sitk.DisplacementFieldTransform(initial_displacement_field)"
   ]
  },
  {
   "cell_type": "markdown",
   "metadata": {},
   "source": [
    "### Ejecutar el algortimo de registro con las diferentes opciones consideradas\n"
   ]
  },
  {
   "cell_type": "code",
   "execution_count": 5,
   "metadata": {},
   "outputs": [
    {
     "data": {
      "image/png": "[encoded data removed]",
      "text/plain": [
       "<Figure size 432x288 with 1 Axes>"
      ]
     },
     "metadata": {
      "needs_background": "light"
     },
     "output_type": "display_data"
    }
   ],
   "source": [
    "transforms = []\n",
    "interpoladores = [sitk.sitkLinear, sitk.sitkCosineWindowedSinc]\n",
    "nombres = [\"Linear\", \"CosineWindow\"]\n",
    "metri = []\n",
    "stop_c = []\n",
    "\n",
    "for i in range(0,3):\n",
    "    for a in interpoladores:\n",
    "        final_transform, metric_va = registro(fixed_image[i], moving_image[i], initial_transform[i], mask1[i], mask2[i], a)\n",
    "        transforms.append(final_transform)\n",
    "        metri.append(metric_va)"
   ]
  },
  {
   "cell_type": "code",
   "execution_count": 6,
   "metadata": {},
   "outputs": [
    {
     "name": "stdout",
     "output_type": "stream",
     "text": [
      "Interpolator       ['Linear', 'CosineWindow', 'Linear', 'CosineWindow', 'Linear', 'CosineWindow']\n",
      "Final metric value [-0.07435889924891222, -0.07520642996411254, -0.008931267202064464, -0.06152260081753831, -0.13296411729988702, -0.05351374247725617]\n"
     ]
    }
   ],
   "source": [
    "# Prints de los valores finales en las métricas\n",
    "print(\"Interpolator      \", nombres * 3)\n",
    "print(\"Final metric value\", metri)"
   ]
  },
  {
   "cell_type": "markdown",
   "metadata": {},
   "source": [
    "### Registros finales obtenidos\n",
    "\n",
    "Solo para modelos de transformaciones rígidas"
   ]
  },
  {
   "cell_type": "code",
   "execution_count": 7,
   "metadata": {},
   "outputs": [
    {
     "name": "stdout",
     "output_type": "stream",
     "text": [
      "Linear\n"
     ]
    },
    {
     "data": {
      "application/vnd.jupyter.widget-view+json": {
       "model_id": "f65f7fba42f34a6e8e15bbe79b372d7a",
       "version_major": 2,
       "version_minor": 0
      },
      "text/plain": [
       "interactive(children=(FloatSlider(value=0.5, description='alpha', max=1.0, step=0.05), Output()), _dom_classes…"
      ]
     },
     "metadata": {},
     "output_type": "display_data"
    },
    {
     "name": "stdout",
     "output_type": "stream",
     "text": [
      "CosineWindow\n"
     ]
    },
    {
     "data": {
      "application/vnd.jupyter.widget-view+json": {
       "model_id": "a2d4372f2aad41c494002388b43dc2cc",
       "version_major": 2,
       "version_minor": 0
      },
      "text/plain": [
       "interactive(children=(FloatSlider(value=0.5, description='alpha', max=1.0, step=0.05), Output()), _dom_classes…"
      ]
     },
     "metadata": {},
     "output_type": "display_data"
    },
    {
     "name": "stdout",
     "output_type": "stream",
     "text": [
      "Linear\n"
     ]
    },
    {
     "data": {
      "application/vnd.jupyter.widget-view+json": {
       "model_id": "d32db98c55894cbe9b2e81c7f0e80eb4",
       "version_major": 2,
       "version_minor": 0
      },
      "text/plain": [
       "interactive(children=(FloatSlider(value=0.5, description='alpha', max=1.0, step=0.05), Output()), _dom_classes…"
      ]
     },
     "metadata": {},
     "output_type": "display_data"
    },
    {
     "name": "stdout",
     "output_type": "stream",
     "text": [
      "CosineWindow\n"
     ]
    },
    {
     "data": {
      "application/vnd.jupyter.widget-view+json": {
       "model_id": "e8c2ef36d5f1413a9d92fd23fa40646d",
       "version_major": 2,
       "version_minor": 0
      },
      "text/plain": [
       "interactive(children=(FloatSlider(value=0.5, description='alpha', max=1.0, step=0.05), Output()), _dom_classes…"
      ]
     },
     "metadata": {},
     "output_type": "display_data"
    },
    {
     "name": "stdout",
     "output_type": "stream",
     "text": [
      "Linear\n"
     ]
    },
    {
     "data": {
      "application/vnd.jupyter.widget-view+json": {
       "model_id": "de50ed860d624944be2be65eb9472ba0",
       "version_major": 2,
       "version_minor": 0
      },
      "text/plain": [
       "interactive(children=(FloatSlider(value=0.5, description='alpha', max=1.0, step=0.05), Output()), _dom_classes…"
      ]
     },
     "metadata": {},
     "output_type": "display_data"
    },
    {
     "name": "stdout",
     "output_type": "stream",
     "text": [
      "CosineWindow\n"
     ]
    },
    {
     "data": {
      "application/vnd.jupyter.widget-view+json": {
       "model_id": "7de42c1deab74a11b9d52c11b2c5911c",
       "version_major": 2,
       "version_minor": 0
      },
      "text/plain": [
       "interactive(children=(FloatSlider(value=0.5, description='alpha', max=1.0, step=0.05), Output()), _dom_classes…"
      ]
     },
     "metadata": {},
     "output_type": "display_data"
    }
   ],
   "source": [
    "moving_resampled2 = []\n",
    "con = 0\n",
    "cuen = 0\n",
    "\n",
    "for i in range(0,len(transforms)):\n",
    "    movi = sitk.Resample(moving_image_real[cuen], fixed_image_real[cuen], transforms[i], interpoladores[con], 0.0, moving_image_real[cuen].GetPixelID())\n",
    "    moving_resampled2.append(movi)\n",
    "    print(nombres[con])\n",
    "    interact(display_images_with_alpha, alpha=(0.0,1.0,0.05), fixed = fixed(fixed_image_real[cuen]), moving=fixed(movi))\n",
    "    if con == 1:\n",
    "        cuen += 1\n",
    "    con += 1\n",
    "    if con == 2:\n",
    "        con = 0"
   ]
  },
  {
   "cell_type": "markdown",
   "metadata": {},
   "source": [
    "### Ejecución para el Demon"
   ]
  },
  {
   "cell_type": "code",
   "execution_count": 8,
   "metadata": {},
   "outputs": [],
   "source": [
    "# Select a Demons filter and configure it.\n",
    "demons_filter =  sitk.DiffeomorphicDemonsRegistrationFilter()\n",
    "demons_filter.SetNumberOfIterations(20)\n",
    "# Regularization (update field - viscous, total field - elastic).\n",
    "demons_filter.SetSmoothDisplacementField(True)\n",
    "demons_filter.SetStandardDeviations(2.0)\n",
    "\n",
    "# Alineamiento no rígido\n",
    "final_tfm = []\n",
    "con = 0\n",
    "for i in range(0,len(transforms),2):\n",
    "    # Run the registration.\n",
    "    final_tfm.append(multiscale_demons(registration_algorithm=demons_filter, \n",
    "                                  fixed_image = fixed_image[con],\n",
    "                                  moving_image = moving_image[con],\n",
    "                                  initial_transform = initial_transform[con],\n",
    "                                  shrink_factors = [6,4,2],\n",
    "                                  smoothing_sigmas = [6,4,2]))\n",
    "    con += 1"
   ]
  },
  {
   "cell_type": "markdown",
   "metadata": {},
   "source": [
    "### Registro final obtenido con Demon"
   ]
  },
  {
   "cell_type": "code",
   "execution_count": 9,
   "metadata": {},
   "outputs": [
    {
     "name": "stdout",
     "output_type": "stream",
     "text": [
      "0\n"
     ]
    },
    {
     "data": {
      "application/vnd.jupyter.widget-view+json": {
       "model_id": "ad4bfbecee994b0b8372c253c5202d13",
       "version_major": 2,
       "version_minor": 0
      },
      "text/plain": [
       "interactive(children=(FloatSlider(value=0.5, description='alpha', max=1.0, step=0.05), Output()), _dom_classes…"
      ]
     },
     "metadata": {},
     "output_type": "display_data"
    },
    {
     "name": "stdout",
     "output_type": "stream",
     "text": [
      "2\n"
     ]
    },
    {
     "data": {
      "application/vnd.jupyter.widget-view+json": {
       "model_id": "4cb6bfb1d086492684bf1e1f237377a0",
       "version_major": 2,
       "version_minor": 0
      },
      "text/plain": [
       "interactive(children=(FloatSlider(value=0.5, description='alpha', max=1.0, step=0.05), Output()), _dom_classes…"
      ]
     },
     "metadata": {},
     "output_type": "display_data"
    },
    {
     "name": "stdout",
     "output_type": "stream",
     "text": [
      "4\n"
     ]
    },
    {
     "data": {
      "application/vnd.jupyter.widget-view+json": {
       "model_id": "eff46bc29e104dc3b1283c75652be159",
       "version_major": 2,
       "version_minor": 0
      },
      "text/plain": [
       "interactive(children=(FloatSlider(value=0.5, description='alpha', max=1.0, step=0.05), Output()), _dom_classes…"
      ]
     },
     "metadata": {},
     "output_type": "display_data"
    }
   ],
   "source": [
    "a = 0\n",
    "for i in range(0,len(final_tfm)):\n",
    "    a = (i * 2)\n",
    "    if i == 0:\n",
    "        a = 0\n",
    "    print(a)\n",
    "    movi_final = sitk.Resample(moving_image_real[i], fixed_image_real[i], final_tfm[i], interpoladores[1], 0.0, moving_image_real[i].GetPixelID())\n",
    "    interact(display_images_with_alpha, alpha=(0.0,1.0,0.05), fixed = fixed(fixed_image_real[i]), moving=fixed(movi_final))"
   ]
  }
 ],
 "metadata": {
  "kernelspec": {
   "display_name": "Python 3",
   "language": "python",
   "name": "python3"
  },
  "language_info": {
   "codemirror_mode": {
    "name": "ipython",
    "version": 3
   },
   "file_extension": ".py",
   "mimetype": "text/x-python",
   "name": "python",
   "nbconvert_exporter": "python",
   "pygments_lexer": "ipython3",
   "version": "3.7.4"
  }
 },
 "nbformat": 4,
 "nbformat_minor": 2
}
